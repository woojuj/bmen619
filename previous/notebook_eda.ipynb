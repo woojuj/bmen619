{
 "cells": [
  {
   "cell_type": "code",
   "execution_count": 3,
   "id": "8b359d87-b0e7-4f2e-8407-cb428b5816d7",
   "metadata": {},
   "outputs": [],
   "source": [
    "import numpy as np"
   ]
  },
  {
   "cell_type": "code",
   "execution_count": 2,
   "id": "a3dd8fe6-864f-4b87-9824-b0849ce84c63",
   "metadata": {},
   "outputs": [
    {
     "ename": "KeyboardInterrupt",
     "evalue": "",
     "output_type": "error",
     "traceback": [
      "\u001b[0;31m---------------------------------------------------------------------------\u001b[0m",
      "\u001b[0;31mKeyboardInterrupt\u001b[0m                         Traceback (most recent call last)",
      "Cell \u001b[0;32mIn[2], line 24\u001b[0m\n\u001b[1;32m     21\u001b[0m file_path \u001b[38;5;241m=\u001b[39m os\u001b[38;5;241m.\u001b[39mpath\u001b[38;5;241m.\u001b[39mjoin(folder_path, filename)\n\u001b[1;32m     23\u001b[0m \u001b[38;5;66;03m# Load the image and convert it to a NumPy array\u001b[39;00m\n\u001b[0;32m---> 24\u001b[0m mask \u001b[38;5;241m=\u001b[39m \u001b[43mnp\u001b[49m\u001b[38;5;241;43m.\u001b[39;49m\u001b[43marray\u001b[49m\u001b[43m(\u001b[49m\u001b[43mImage\u001b[49m\u001b[38;5;241;43m.\u001b[39;49m\u001b[43mopen\u001b[49m\u001b[43m(\u001b[49m\u001b[43mfile_path\u001b[49m\u001b[43m)\u001b[49m\u001b[43m)\u001b[49m\n\u001b[1;32m     26\u001b[0m \u001b[38;5;66;03m# Process the mask data (e.g., print unique values)\u001b[39;00m\n\u001b[1;32m     27\u001b[0m unique_values \u001b[38;5;241m=\u001b[39m np\u001b[38;5;241m.\u001b[39munique(mask)\n",
      "File \u001b[0;32m~/Library/Python/3.9/lib/python/site-packages/PIL/Image.py:756\u001b[0m, in \u001b[0;36mImage.__array_interface__\u001b[0;34m(self)\u001b[0m\n\u001b[1;32m    754\u001b[0m     new[\u001b[38;5;124m\"\u001b[39m\u001b[38;5;124mdata\u001b[39m\u001b[38;5;124m\"\u001b[39m] \u001b[38;5;241m=\u001b[39m \u001b[38;5;28mself\u001b[39m\u001b[38;5;241m.\u001b[39mtobytes(\u001b[38;5;124m\"\u001b[39m\u001b[38;5;124mraw\u001b[39m\u001b[38;5;124m\"\u001b[39m, \u001b[38;5;124m\"\u001b[39m\u001b[38;5;124mL\u001b[39m\u001b[38;5;124m\"\u001b[39m)\n\u001b[1;32m    755\u001b[0m \u001b[38;5;28;01melse\u001b[39;00m:\n\u001b[0;32m--> 756\u001b[0m     new[\u001b[38;5;124m\"\u001b[39m\u001b[38;5;124mdata\u001b[39m\u001b[38;5;124m\"\u001b[39m] \u001b[38;5;241m=\u001b[39m \u001b[38;5;28;43mself\u001b[39;49m\u001b[38;5;241;43m.\u001b[39;49m\u001b[43mtobytes\u001b[49m\u001b[43m(\u001b[49m\u001b[43m)\u001b[49m\n\u001b[1;32m    757\u001b[0m new[\u001b[38;5;124m\"\u001b[39m\u001b[38;5;124mshape\u001b[39m\u001b[38;5;124m\"\u001b[39m], new[\u001b[38;5;124m\"\u001b[39m\u001b[38;5;124mtypestr\u001b[39m\u001b[38;5;124m\"\u001b[39m] \u001b[38;5;241m=\u001b[39m _conv_type_shape(\u001b[38;5;28mself\u001b[39m)\n\u001b[1;32m    758\u001b[0m \u001b[38;5;28;01mreturn\u001b[39;00m new\n",
      "File \u001b[0;32m~/Library/Python/3.9/lib/python/site-packages/PIL/Image.py:805\u001b[0m, in \u001b[0;36mImage.tobytes\u001b[0;34m(self, encoder_name, *args)\u001b[0m\n\u001b[1;32m    802\u001b[0m \u001b[38;5;28;01mif\u001b[39;00m encoder_name \u001b[38;5;241m==\u001b[39m \u001b[38;5;124m\"\u001b[39m\u001b[38;5;124mraw\u001b[39m\u001b[38;5;124m\"\u001b[39m \u001b[38;5;129;01mand\u001b[39;00m encoder_args \u001b[38;5;241m==\u001b[39m ():\n\u001b[1;32m    803\u001b[0m     encoder_args \u001b[38;5;241m=\u001b[39m \u001b[38;5;28mself\u001b[39m\u001b[38;5;241m.\u001b[39mmode\n\u001b[0;32m--> 805\u001b[0m \u001b[38;5;28;43mself\u001b[39;49m\u001b[38;5;241;43m.\u001b[39;49m\u001b[43mload\u001b[49m\u001b[43m(\u001b[49m\u001b[43m)\u001b[49m\n\u001b[1;32m    807\u001b[0m \u001b[38;5;28;01mif\u001b[39;00m \u001b[38;5;28mself\u001b[39m\u001b[38;5;241m.\u001b[39mwidth \u001b[38;5;241m==\u001b[39m \u001b[38;5;241m0\u001b[39m \u001b[38;5;129;01mor\u001b[39;00m \u001b[38;5;28mself\u001b[39m\u001b[38;5;241m.\u001b[39mheight \u001b[38;5;241m==\u001b[39m \u001b[38;5;241m0\u001b[39m:\n\u001b[1;32m    808\u001b[0m     \u001b[38;5;28;01mreturn\u001b[39;00m \u001b[38;5;124mb\u001b[39m\u001b[38;5;124m\"\u001b[39m\u001b[38;5;124m\"\u001b[39m\n",
      "File \u001b[0;32m~/Library/Python/3.9/lib/python/site-packages/PIL/ImageFile.py:300\u001b[0m, in \u001b[0;36mImageFile.load\u001b[0;34m(self)\u001b[0m\n\u001b[1;32m    297\u001b[0m         \u001b[38;5;28;01mraise\u001b[39;00m \u001b[38;5;167;01mOSError\u001b[39;00m(msg)\n\u001b[1;32m    299\u001b[0m b \u001b[38;5;241m=\u001b[39m b \u001b[38;5;241m+\u001b[39m s\n\u001b[0;32m--> 300\u001b[0m n, err_code \u001b[38;5;241m=\u001b[39m \u001b[43mdecoder\u001b[49m\u001b[38;5;241;43m.\u001b[39;49m\u001b[43mdecode\u001b[49m\u001b[43m(\u001b[49m\u001b[43mb\u001b[49m\u001b[43m)\u001b[49m\n\u001b[1;32m    301\u001b[0m \u001b[38;5;28;01mif\u001b[39;00m n \u001b[38;5;241m<\u001b[39m \u001b[38;5;241m0\u001b[39m:\n\u001b[1;32m    302\u001b[0m     \u001b[38;5;28;01mbreak\u001b[39;00m\n",
      "\u001b[0;31mKeyboardInterrupt\u001b[0m: "
     ]
    }
   ],
   "source": [
    "# 모든 PNG 파일에서 중복되지 않는 값\n",
    "import os\n",
    "import numpy as np\n",
    "from PIL import Image  # Import the Image module from PIL\n",
    "\n",
    "# # Verify Google Drive is mounted\n",
    "# from google.colab import drive\n",
    "# drive.mount('/content/drive')\n",
    "\n",
    "# Specify the folder containing the PNG files\n",
    "folder_path = \"/Users/wj/Downloads/BMEN619.03/archive/BCSS/train_mask/\"  # Update with your folder path\n",
    "\n",
    "all_unique_values = set()\n",
    "png_file_count = 0\n",
    "\n",
    "# Iterate through all files in the folder\n",
    "for filename in os.listdir(folder_path):\n",
    "    if filename.endswith(\".png\"):  # Process only PNG files\n",
    "        png_file_count += 1\n",
    "        # Construct the full file path\n",
    "        file_path = os.path.join(folder_path, filename)\n",
    "\n",
    "        # Load the image and convert it to a NumPy array\n",
    "        mask = np.array(Image.open(file_path))\n",
    "\n",
    "        # Process the mask data (e.g., print unique values)\n",
    "        unique_values = np.unique(mask)\n",
    "        # Add the unique values to the overall set\n",
    "        all_unique_values.update(unique_values)\n",
    "        \n",
    "        # # print(unique_values) 매번 출력\n",
    "        # print(f\"마스크에 포함된 픽셀 값 ({filename}):\", unique_values)\n",
    "\n",
    "# Print the combined unique values from all PNG files\n",
    "print(\"모든 PNG 파일에서 중복되지 않는 값:\", all_unique_values, \"파일갯수\", png_file_count)\n"
   ]
  },
  {
   "cell_type": "code",
   "execution_count": 14,
   "id": "80a0ddde-83bb-46ad-9da9-ba649c2bd300",
   "metadata": {},
   "outputs": [
    {
     "name": "stdout",
     "output_type": "stream",
     "text": [
      "마스크에 포함된 픽셀 값: [1 2 3 4 9]\n"
     ]
    }
   ],
   "source": [
    "# 한놈만 보기\n",
    "\n",
    "# mask = np.array(Image.open(\"/Users/wj/Downloads/BMEN619.03/archive/BCSS/train_mask/TCGA-A1-A0SK-DX1_xmin45749_ymin25055_MPP-0_0_224_size224.png\"))\n",
    "mask = np.array(Image.open('/Users/wj/Downloads/BMEN619.03/TCGA-A1-A0SK-DX1_xmin45749_ymin25055_.png'))\n",
    "# 마스크에 어떤 값들이 있는지 확인\n",
    "unique_values = np.unique(mask)\n",
    "print(\"마스크에 포함된 픽셀 값:\", unique_values)"
   ]
  },
  {
   "cell_type": "code",
   "execution_count": 15,
   "id": "e8ead9a2-9ed9-433e-b239-afd235dc7a0d",
   "metadata": {},
   "outputs": [
    {
     "data": {
      "text/plain": [
       "array([[2, 2, 2, ..., 2, 2, 2],\n",
       "       [2, 1, 1, ..., 2, 2, 2],\n",
       "       [2, 1, 1, ..., 2, 2, 2],\n",
       "       ...,\n",
       "       [2, 1, 1, ..., 2, 2, 2],\n",
       "       [2, 2, 2, ..., 2, 2, 2],\n",
       "       [2, 2, 2, ..., 2, 2, 2]], dtype=uint16)"
      ]
     },
     "execution_count": 15,
     "metadata": {},
     "output_type": "execute_result"
    }
   ],
   "source": [
    "mask"
   ]
  },
  {
   "cell_type": "code",
   "execution_count": 21,
   "id": "e9db1bb6-8656-4b6c-9016-0a78d00d4266",
   "metadata": {},
   "outputs": [
    {
     "name": "stdout",
     "output_type": "stream",
     "text": [
      "값 0: 35584320 픽셀\n"
     ]
    }
   ],
   "source": [
    "# 각 고유 값과 개수 계산\n",
    "unique_values, counts = np.unique(mask, return_counts=True)\n",
    "\n",
    "# 결과 출력\n",
    "for val, count in zip(unique_values, counts):\n",
    "    print(f\"값 {val}: {count} 픽셀\")"
   ]
  },
  {
   "cell_type": "code",
   "execution_count": 10,
   "id": "e2fc7a1e-b523-4835-9ed6-408b71dc2ec5",
   "metadata": {},
   "outputs": [],
   "source": [
    "import cv2"
   ]
  },
  {
   "cell_type": "code",
   "execution_count": 13,
   "id": "c5fb895f-b675-4e2f-9e13-8e46bcc436f4",
   "metadata": {},
   "outputs": [],
   "source": [
    "img = cv2.imread('/Users/wj/Downloads/BMEN619.03/archive/BCSS/train_mask/TCGA-A1-A0SK-DX1_xmin45749_ymin25055_MPP-0_0_224_size224.png')\n",
    "\n",
    "# 이미지 출력\n",
    "cv2.imshow('image', img)"
   ]
  },
  {
   "cell_type": "code",
   "execution_count": 15,
   "id": "046b6cc2-40dc-49cb-8b53-8497f003b6b3",
   "metadata": {
    "scrolled": true
   },
   "outputs": [
    {
     "data": {
      "image/png": "[encoded data removed]",
      "text/plain": [
       "<Figure size 640x480 with 1 Axes>"
      ]
     },
     "metadata": {},
     "output_type": "display_data"
    }
   ],
   "source": [
    "# 마스크값 눈에 보이게 수정\n",
    "import cv2\n",
    "import numpy as np\n",
    "import matplotlib.pyplot as plt\n",
    "\n",
    "# 이미지 로드 (Grayscale로 읽기)\n",
    "mask = cv2.imread('/Users/wj/Downloads/BMEN619.03/archive/BCSS/train_mask/TCGA-A1-A0SK-DX1_xmin45749_ymin25055_MPP-0_0_224_size224.png')\n",
    "'Downloads/BMEN619.03/archive/TCGA-A1-A0SK-DX1_xmin45749_ymin25055_MPP-0_0_224_size224_colorchange.png'\n",
    "\n",
    "# 값 변환 (0 유지, 1 -> 255, 2 -> 127)\n",
    "mask_transformed = np.where(mask == 1, 255, np.where(mask == 2, 127, 0)).astype(np.uint8)\n",
    "\n",
    "# 이미지 출력 (Matplotlib 사용)\n",
    "# plt.imshow(mask)\n",
    "\n",
    "plt.imshow(mask_transformed\n",
    "           # , cmap='gray'\n",
    "          )\n",
    "plt.axis('off')  # 축 제거\n",
    "plt.show()"
   ]
  },
  {
   "cell_type": "code",
   "execution_count": 20,
   "id": "5fd66d06-5a96-41ce-813d-6aae0dd3b2ce",
   "metadata": {
    "scrolled": true
   },
   "outputs": [
    {
     "ename": "ValueError",
     "evalue": "either both or neither of x and y should be given",
     "output_type": "error",
     "traceback": [
      "\u001b[0;31m---------------------------------------------------------------------------\u001b[0m",
      "\u001b[0;31mValueError\u001b[0m                                Traceback (most recent call last)",
      "Cell \u001b[0;32mIn[20], line 16\u001b[0m\n\u001b[1;32m      7\u001b[0m mask \u001b[38;5;241m=\u001b[39m cv2\u001b[38;5;241m.\u001b[39mimread(\u001b[38;5;124m'\u001b[39m\u001b[38;5;124m/Users/wj/Downloads/BMEN619.03/TCGA-A1-A0SK-DX1_xmin45749_ymin25055_.png\u001b[39m\u001b[38;5;124m'\u001b[39m)\n\u001b[1;32m      9\u001b[0m \u001b[38;5;66;03m# 값 변환 (0 유지, 1 -> 255, 2 -> 127)\u001b[39;00m\n\u001b[1;32m     10\u001b[0m \u001b[38;5;66;03m# 0,64,128,192,255\u001b[39;00m\n\u001b[1;32m     11\u001b[0m \u001b[38;5;66;03m# Let's make 9, 3, 4, 2, 1\u001b[39;00m\n\u001b[1;32m     12\u001b[0m \u001b[38;5;66;03m# mask_transformed = np.where(mask == 1, 255, np.where(mask == 2, 127, 0)).astype(np.uint8)\u001b[39;00m\n\u001b[1;32m     13\u001b[0m mask_transformed \u001b[38;5;241m=\u001b[39m np\u001b[38;5;241m.\u001b[39mwhere(mask \u001b[38;5;241m==\u001b[39m \u001b[38;5;241m9\u001b[39m, \u001b[38;5;241m255\u001b[39m, np\u001b[38;5;241m.\u001b[39mwhere(mask \u001b[38;5;241m==\u001b[39m \u001b[38;5;241m3\u001b[39m, \u001b[38;5;241m255\u001b[39m, \n\u001b[1;32m     14\u001b[0m                    np\u001b[38;5;241m.\u001b[39mwhere(mask \u001b[38;5;241m==\u001b[39m \u001b[38;5;241m4\u001b[39m, \u001b[38;5;241m255\u001b[39m, \n\u001b[1;32m     15\u001b[0m                    np\u001b[38;5;241m.\u001b[39mwhere(mask \u001b[38;5;241m==\u001b[39m \u001b[38;5;241m2\u001b[39m, \u001b[38;5;241m127\u001b[39m, \n\u001b[0;32m---> 16\u001b[0m                    \u001b[43mnp\u001b[49m\u001b[38;5;241;43m.\u001b[39;49m\u001b[43mwhere\u001b[49m\u001b[43m(\u001b[49m\u001b[43mmask\u001b[49m\u001b[43m \u001b[49m\u001b[38;5;241;43m==\u001b[39;49m\u001b[43m \u001b[49m\u001b[38;5;241;43m1\u001b[39;49m\u001b[43m,\u001b[49m\u001b[43m \u001b[49m\u001b[38;5;241;43m255\u001b[39;49m\u001b[43m \u001b[49m\u001b[43m)\u001b[49m))))\u001b[38;5;241m.\u001b[39mastype(np\u001b[38;5;241m.\u001b[39muint8)\n\u001b[1;32m     18\u001b[0m \u001b[38;5;66;03m# mapping = {9: 0, 3: 64, 4: 128, 2: 192, 1: 255}\u001b[39;00m\n\u001b[1;32m     19\u001b[0m \u001b[38;5;66;03m# mask_transformed = np.vectorize(mapping.get)(mask).astype(np.uint8)\u001b[39;00m\n\u001b[1;32m     20\u001b[0m \u001b[38;5;66;03m# 이미지 출력 (Matplotlib 사용)\u001b[39;00m\n\u001b[1;32m     21\u001b[0m \u001b[38;5;66;03m# plt.imshow(mask)\u001b[39;00m\n\u001b[1;32m     23\u001b[0m plt\u001b[38;5;241m.\u001b[39mimshow(mask_transformed\n\u001b[1;32m     24\u001b[0m            \u001b[38;5;66;03m# , cmap='gray'\u001b[39;00m\n\u001b[1;32m     25\u001b[0m           )\n",
      "\u001b[0;31mValueError\u001b[0m: either both or neither of x and y should be given"
     ]
    }
   ],
   "source": [
    "# 마스크값 눈에 보이게 수정 젤 큰 roi 가져와서.. wsi 마스크는 존재하지 않음. 왜 안되지;ㅇ\n",
    "import cv2\n",
    "import numpy as np\n",
    "import matplotlib.pyplot as plt\n",
    "\n",
    "# 이미지 로드 (Grayscale로 읽기)\n",
    "mask = cv2.imread('/Users/wj/Downloads/BMEN619.03/TCGA-A1-A0SK-DX1_xmin45749_ymin25055_.png')\n",
    "\n",
    "# 값 변환 (0 유지, 1 -> 255, 2 -> 127)\n",
    "# 0,64,128,192,255\n",
    "# Let's make 9, 3, 4, 2, 1\n",
    "# mask_transformed = np.where(mask == 1, 255, np.where(mask == 2, 127, 0)).astype(np.uint8)\n",
    "mask_transformed = np.where(mask == 9, 255, np.where(mask == 3, 255, \n",
    "                   np.where(mask == 4, 255, \n",
    "                   np.where(mask == 2, 127, \n",
    "                   np.where(mask == 1, 255,0 ))))).astype(np.uint8)\n",
    "\n",
    "# mapping = {9: 0, 3: 64, 4: 128, 2: 192, 1: 255}\n",
    "# mask_transformed = np.vectorize(mapping.get)(mask).astype(np.uint8)\n",
    "# 이미지 출력 (Matplotlib 사용)\n",
    "# plt.imshow(mask)\n",
    "\n",
    "plt.imshow(mask_transformed\n",
    "           # , cmap='gray'\n",
    "          )\n",
    "plt.axis('off')  # 축 제거\n",
    "plt.show()"
   ]
  },
  {
   "cell_type": "code",
   "execution_count": 18,
   "id": "7ac927d1-be10-4da5-aa48-99c66b63012d",
   "metadata": {},
   "outputs": [
    {
     "data": {
      "text/plain": [
       "array([[[0, 0, 0],\n",
       "        [0, 0, 0],\n",
       "        [0, 0, 0],\n",
       "        ...,\n",
       "        [0, 0, 0],\n",
       "        [0, 0, 0],\n",
       "        [0, 0, 0]],\n",
       "\n",
       "       [[0, 0, 0],\n",
       "        [0, 0, 0],\n",
       "        [0, 0, 0],\n",
       "        ...,\n",
       "        [0, 0, 0],\n",
       "        [0, 0, 0],\n",
       "        [0, 0, 0]],\n",
       "\n",
       "       [[0, 0, 0],\n",
       "        [0, 0, 0],\n",
       "        [0, 0, 0],\n",
       "        ...,\n",
       "        [0, 0, 0],\n",
       "        [0, 0, 0],\n",
       "        [0, 0, 0]],\n",
       "\n",
       "       ...,\n",
       "\n",
       "       [[0, 0, 0],\n",
       "        [0, 0, 0],\n",
       "        [0, 0, 0],\n",
       "        ...,\n",
       "        [0, 0, 0],\n",
       "        [0, 0, 0],\n",
       "        [0, 0, 0]],\n",
       "\n",
       "       [[0, 0, 0],\n",
       "        [0, 0, 0],\n",
       "        [0, 0, 0],\n",
       "        ...,\n",
       "        [0, 0, 0],\n",
       "        [0, 0, 0],\n",
       "        [0, 0, 0]],\n",
       "\n",
       "       [[0, 0, 0],\n",
       "        [0, 0, 0],\n",
       "        [0, 0, 0],\n",
       "        ...,\n",
       "        [0, 0, 0],\n",
       "        [0, 0, 0],\n",
       "        [0, 0, 0]]], dtype=uint8)"
      ]
     },
     "execution_count": 18,
     "metadata": {},
     "output_type": "execute_result"
    }
   ],
   "source": [
    "mask_transformed"
   ]
  },
  {
   "cell_type": "code",
   "execution_count": 16,
   "id": "32e5a688-8cfb-4813-871d-2f3cdf22247d",
   "metadata": {},
   "outputs": [
    {
     "data": {
      "text/plain": [
       "numpy.ndarray"
      ]
     },
     "execution_count": 16,
     "metadata": {},
     "output_type": "execute_result"
    }
   ],
   "source": [
    "type(mask_transformed)"
   ]
  },
  {
   "cell_type": "code",
   "execution_count": 17,
   "id": "d660b29d-3bf5-4960-9d78-05c914585020",
   "metadata": {},
   "outputs": [
    {
     "data": {
      "text/plain": [
       "True"
      ]
     },
     "execution_count": 17,
     "metadata": {},
     "output_type": "execute_result"
    }
   ],
   "source": [
    "cv2.imwrite('TCGA-A1-A0SK-DX1_xmin45749_ymin25055_MPP-0_0_224_size224_colorchange.png', mask_transformed)"
   ]
  },
  {
   "cell_type": "code",
   "execution_count": 26,
   "id": "0c538fe5-c2ef-4308-8425-46f5cc646317",
   "metadata": {},
   "outputs": [
    {
     "name": "stdout",
     "output_type": "stream",
     "text": [
      "TCGA-A2-A0ST-DX1_xmin109446_ymin18274_MPP-0_4032_2240_size224.png\n",
      "유니크한 값 개수: 151\n"
     ]
    }
   ],
   "source": [
    "# wsi 개수세기\n",
    "# 파일이 저장된 폴더 경로 설정\n",
    "folder_path = \"/Users/wj/Downloads/BMEN619.03/archive/BCSS/train_mask\"\n",
    "\n",
    "# 파일 목록 가져오기\n",
    "file_list = [f for f in os.listdir(folder_path) if f.endswith(\".png\")]\n",
    "print(file_list[0])\n",
    "# DX1 기준 앞부분 추출\n",
    "unique_prefixes = set(f.split(\"-DX1\")[0] for f in file_list)\n",
    "# print(unique_prefixes)\n",
    "\n",
    "# for f in file_list:\n",
    "#     print(f.split(\"-DX1\")[0])\n",
    "\n",
    "# 결과 출력\n",
    "print(f\"유니크한 값 개수: {len(unique_prefixes)}\")\n"
   ]
  },
  {
   "cell_type": "code",
   "execution_count": 28,
   "id": "9e14ca4f-39f5-4f9c-8bd7-c145132df918",
   "metadata": {},
   "outputs": [
    {
     "name": "stdout",
     "output_type": "stream",
     "text": [
      "TCGA-EW-A1P8-DX1_xmin15520_ymin26381_MPP-0_2688_1792_size224.png\n",
      "유니크한 값 개수: 151\n"
     ]
    }
   ],
   "source": [
    "# wsi 개수세기 val\n",
    "# 파일이 저장된 폴더 경로 설정\n",
    "folder_path = \"/Users/wj/Downloads/BMEN619.03/archive/BCSS/val_mask\"\n",
    "\n",
    "# 파일 목록 가져오기\n",
    "file_list = [f for f in os.listdir(folder_path) if f.endswith(\".png\")]\n",
    "print(file_list[0])\n",
    "# DX1 기준 앞부분 추출\n",
    "unique_prefixes_val = set(f.split(\"-DX1\")[0] for f in file_list)\n",
    "# print(unique_prefixes)\n",
    "\n",
    "# for f in file_list:\n",
    "#     print(f.split(\"-DX1\")[0])\n",
    "\n",
    "# 결과 출력\n",
    "print(f\"유니크한 값 개수: {len(unique_prefixes_val)}\")\n"
   ]
  },
  {
   "cell_type": "code",
   "execution_count": 30,
   "id": "de20adf6-f22d-4c21-a9e0-29e7219ae07f",
   "metadata": {
    "scrolled": true
   },
   "outputs": [
    {
     "name": "stdout",
     "output_type": "stream",
     "text": [
      "TCGA-EW-A1P8: 31개 파일 존재\n",
      "TCGA-AO-A0J6: 50개 파일 존재\n",
      "TCGA-BH-A18V: 55개 파일 존재\n",
      "TCGA-E2-A573: 19개 파일 존재\n",
      "TCGA-BH-A0WA: 82개 파일 존재\n",
      "TCGA-GM-A3XL: 45개 파일 존재\n",
      "TCGA-A7-A26F: 50개 파일 존재\n",
      "TCGA-AR-A0TS: 28개 파일 존재\n",
      "TCGA-S3-AA15: 8개 파일 존재\n",
      "TCGA-EW-A1OW: 104개 파일 존재\n",
      "TCGA-AO-A03U: 72개 파일 존재\n",
      "TCGA-D8-A1JG: 68개 파일 존재\n",
      "TCGA-D8-A1XQ: 46개 파일 존재\n",
      "TCGA-A8-A07C: 25개 파일 존재\n",
      "TCGA-D8-A13Z: 68개 파일 존재\n",
      "TCGA-E2-A1AZ: 21개 파일 존재\n",
      "TCGA-AR-A0TU: 14개 파일 존재\n",
      "TCGA-C8-A131: 15개 파일 존재\n",
      "TCGA-EW-A1PB: 34개 파일 존재\n",
      "TCGA-D8-A27F: 39개 파일 존재\n",
      "TCGA-E2-A14N: 63개 파일 존재\n",
      "TCGA-A2-A0D2: 12개 파일 존재\n",
      "TCGA-D8-A142: 128개 파일 존재\n",
      "TCGA-E2-A150: 34개 파일 존재\n",
      "TCGA-E2-A1B6: 51개 파일 존재\n",
      "TCGA-BH-A1EW: 40개 파일 존재\n",
      "TCGA-BH-A1FC: 53개 파일 존재\n",
      "TCGA-A2-A04P: 34개 파일 존재\n",
      "TCGA-D8-A27H: 17개 파일 존재\n",
      "TCGA-A2-A0YM: 86개 파일 존재\n",
      "TCGA-AC-A7VC: 41개 파일 존재\n",
      "TCGA-EW-A6SB: 55개 파일 존재\n",
      "TCGA-AR-A2LR: 9개 파일 존재\n",
      "TCGA-A7-A6VW: 18개 파일 존재\n",
      "TCGA-AN-A0XU: 73개 파일 존재\n",
      "TCGA-BH-A0E6: 67개 파일 존재\n",
      "TCGA-A7-A0CE: 66개 파일 존재\n",
      "TCGA-AR-A2LH: 31개 파일 존재\n",
      "TCGA-GM-A2DB: 99개 파일 존재\n",
      "TCGA-AN-A0AL: 29개 파일 존재\n",
      "TCGA-A2-A0CM: 43개 파일 존재\n",
      "TCGA-BH-A18G: 15개 파일 존재\n",
      "TCGA-A7-A0DA: 64개 파일 존재\n",
      "TCGA-A2-A1G6: 23개 파일 존재\n",
      "TCGA-C8-A26Y: 36개 파일 존재\n",
      "TCGA-E2-A159: 53개 파일 존재\n",
      "TCGA-C8-A27B: 69개 파일 존재\n",
      "TCGA-E2-A14X: 46개 파일 존재\n",
      "TCGA-OL-A66I: 13개 파일 존재\n",
      "TCGA-D8-A1JL: 121개 파일 존재\n",
      "TCGA-E2-A1LI: 72개 파일 존재\n",
      "TCGA-A2-A3XU: 34개 파일 존재\n",
      "TCGA-C8-A12V: 57개 파일 존재\n",
      "TCGA-BH-A0BW: 46개 파일 존재\n",
      "TCGA-AQ-A04J: 19개 파일 존재\n",
      "TCGA-EW-A1OV: 116개 파일 존재\n",
      "TCGA-D8-A143: 68개 파일 존재\n",
      "TCGA-A2-A3XY: 28개 파일 존재\n",
      "TCGA-EW-A1P1: 44개 파일 존재\n",
      "TCGA-AC-A2QH: 57개 파일 존재\n",
      "TCGA-BH-A0AV: 24개 파일 존재\n",
      "TCGA-BH-A0B9: 73개 파일 존재\n",
      "TCGA-A2-A3XS: 41개 파일 존재\n",
      "TCGA-EW-A1P7: 29개 파일 존재\n",
      "TCGA-A7-A6VV: 31개 파일 존재\n",
      "TCGA-E2-A1LH: 31개 파일 존재\n",
      "TCGA-A2-A04T: 45개 파일 존재\n",
      "TCGA-D8-A1JF: 34개 파일 존재\n",
      "TCGA-AN-A0AR: 28개 파일 존재\n",
      "TCGA-A2-A0SX: 32개 파일 존재\n",
      "TCGA-EW-A1PH: 47개 파일 존재\n",
      "TCGA-OL-A5D7: 64개 파일 존재\n",
      "TCGA-AO-A0J2: 30개 파일 존재\n",
      "TCGA-A8-A09X: 24개 파일 존재\n",
      "TCGA-E2-A1LL: 27개 파일 존재\n",
      "TCGA-A7-A4SD: 13개 파일 존재\n",
      "TCGA-A2-A0ST: 64개 파일 존재\n",
      "TCGA-AR-A0U1: 10개 파일 존재\n",
      "TCGA-A2-A0T2: 31개 파일 존재\n",
      "TCGA-A2-A0D0: 107개 파일 존재\n",
      "TCGA-AO-A12F: 27개 파일 존재\n",
      "TCGA-BH-A0RX: 41개 파일 존재\n",
      "TCGA-OL-A66P: 39개 파일 존재\n",
      "TCGA-AC-A6IW: 19개 파일 존재\n",
      "TCGA-A7-A26I: 24개 파일 존재\n",
      "TCGA-BH-A0B3: 19개 파일 존재\n",
      "TCGA-A2-A3XX: 15개 파일 존재\n",
      "TCGA-OL-A5D6: 14개 파일 존재\n",
      "TCGA-C8-A3M7: 38개 파일 존재\n",
      "TCGA-AQ-A54N: 25개 파일 존재\n",
      "TCGA-E2-A158: 14개 파일 존재\n",
      "TCGA-A7-A5ZV: 30개 파일 존재\n",
      "TCGA-BH-A0BL: 35개 파일 존재\n",
      "TCGA-D8-A27M: 37개 파일 존재\n",
      "TCGA-AN-A0AT: 28개 파일 존재\n",
      "TCGA-BH-A1F6: 33개 파일 존재\n",
      "TCGA-E9-A5FL: 73개 파일 존재\n",
      "TCGA-EW-A1P4: 38개 파일 존재\n",
      "TCGA-C8-A1HJ: 26개 파일 존재\n",
      "TCGA-AO-A0J4: 57개 파일 존재\n",
      "TCGA-A2-A0YE: 26개 파일 존재\n",
      "TCGA-GM-A2DF: 28개 파일 존재\n",
      "TCGA-E2-A1LK: 40개 파일 존재\n",
      "TCGA-AO-A1KR: 48개 파일 존재\n",
      "TCGA-LL-A740: 21개 파일 존재\n",
      "TCGA-LL-A441: 15개 파일 존재\n",
      "TCGA-AC-A2QJ: 22개 파일 존재\n",
      "TCGA-GM-A2DH: 32개 파일 존재\n",
      "TCGA-AR-A1AY: 9개 파일 존재\n",
      "TCGA-AN-A0G0: 38개 파일 존재\n",
      "TCGA-AO-A129: 51개 파일 존재\n",
      "TCGA-A1-A0SP: 43개 파일 존재\n",
      "TCGA-OL-A97C: 33개 파일 존재\n",
      "TCGA-A7-A6VY: 13개 파일 존재\n",
      "TCGA-A2-A3XT: 37개 파일 존재\n",
      "TCGA-BH-A0E0: 39개 파일 존재\n",
      "TCGA-BH-A0BG: 32개 파일 존재\n",
      "TCGA-AR-A5QQ: 23개 파일 존재\n",
      "TCGA-A8-A07O: 27개 파일 존재\n",
      "TCGA-E2-A574: 29개 파일 존재\n",
      "TCGA-C8-A26X: 44개 파일 존재\n",
      "TCGA-OL-A6VO: 13개 파일 존재\n",
      "TCGA-AR-A256: 16개 파일 존재\n",
      "TCGA-GM-A2DD: 61개 파일 존재\n",
      "TCGA-AC-A2BK: 21개 파일 존재\n",
      "TCGA-A8-A08R: 20개 파일 존재\n",
      "TCGA-AO-A128: 18개 파일 존재\n",
      "TCGA-A1-A0SK: 19개 파일 존재\n",
      "TCGA-AR-A0U4: 16개 파일 존재\n",
      "TCGA-E2-A1L7: 47개 파일 존재\n",
      "TCGA-D8-A1XK: 17개 파일 존재\n",
      "TCGA-AR-A1AQ: 14개 파일 존재\n",
      "TCGA-AO-A124: 17개 파일 존재\n",
      "TCGA-S3-AA10: 15개 파일 존재\n",
      "TCGA-E2-A1LS: 17개 파일 존재\n",
      "TCGA-A2-A0T0: 21개 파일 존재\n",
      "TCGA-BH-A42U: 2개 파일 존재\n",
      "TCGA-HN-A2NL: 5개 파일 존재\n",
      "TCGA-EW-A3U0: 8개 파일 존재\n",
      "TCGA-GI-A2C9: 14개 파일 존재\n",
      "TCGA-D8-A147: 18개 파일 존재\n",
      "TCGA-LL-A5YO: 14개 파일 존재\n",
      "TCGA-GM-A2DI: 4개 파일 존재\n",
      "TCGA-AR-A1AR: 19개 파일 존재\n",
      "TCGA-E2-A14R: 4개 파일 존재\n",
      "TCGA-AR-A1AI: 6개 파일 존재\n",
      "TCGA-A2-A04Q: 12개 파일 존재\n",
      "TCGA-A7-A26G: 5개 파일 존재\n",
      "TCGA-OL-A5RW: 4개 파일 존재\n",
      "TCGA-LL-A73Y: 7개 파일 존재\n",
      "TCGA-A7-A4SE: 4개 파일 존재\n",
      "\n",
      "총 유니크한 파일 그룹 개수: 151\n"
     ]
    }
   ],
   "source": [
    "# import os\n",
    "from collections import defaultdict\n",
    "\n",
    "# 파일이 저장된 폴더 경로\n",
    "folder_path = \"/Users/wj/Downloads/BMEN619.03/archive/BCSS/val_mask\"\n",
    "\n",
    "# 파일 목록 가져오기 (PNG 파일만)\n",
    "file_list = [f for f in os.listdir(folder_path) if f.endswith(\".png\")]\n",
    "\n",
    "# 각 고유한 파일 앞부분(DX1 기준 앞부분)별 파일 개수 저장\n",
    "file_counts = defaultdict(int)\n",
    "\n",
    "for filename in file_list:\n",
    "    if \"-DX1\" in filename:  # \"_DX1\"이 포함된 파일만 처리\n",
    "        prefix = filename.split(\"-DX1\")[0]  # \"_DX1\" 앞부분만 추출\n",
    "        file_counts[prefix] += 1  # 해당 prefix에 대한 파일 개수 증가\n",
    "\n",
    "# 결과 출력\n",
    "for prefix, count in file_counts.items():\n",
    "    print(f\"{prefix}: {count}개 파일 존재\")\n",
    "\n",
    "# 유니크한 앞부분 개수 출력\n",
    "print(f\"\\n총 유니크한 파일 그룹 개수: {len(file_counts)}\")\n"
   ]
  },
  {
   "cell_type": "code",
   "execution_count": 31,
   "id": "bb95bd0d-2db1-4fce-8ed7-54f51e04f635",
   "metadata": {
    "scrolled": true
   },
   "outputs": [
    {
     "name": "stdout",
     "output_type": "stream",
     "text": [
      "TCGA-A2-A0ST: 336개 파일 존재\n",
      "TCGA-AN-A0XU: 368개 파일 존재\n",
      "TCGA-AN-A0AL: 191개 파일 존재\n",
      "TCGA-A2-A04P: 141개 파일 존재\n",
      "TCGA-D8-A1XQ: 252개 파일 존재\n",
      "TCGA-E2-A14N: 315개 파일 존재\n",
      "TCGA-C8-A26Y: 187개 파일 존재\n",
      "TCGA-D8-A142: 768개 파일 존재\n",
      "TCGA-AO-A03U: 370개 파일 존재\n",
      "TCGA-AO-A1KR: 267개 파일 존재\n",
      "TCGA-E2-A1LK: 320개 파일 존재\n",
      "TCGA-BH-A0BW: 218개 파일 존재\n",
      "TCGA-D8-A1JG: 338개 파일 존재\n",
      "TCGA-GM-A2DF: 197개 파일 존재\n",
      "TCGA-BH-A0E6: 354개 파일 존재\n",
      "TCGA-A2-A0CM: 172개 파일 존재\n",
      "TCGA-BH-A0WA: 543개 파일 존재\n",
      "TCGA-E2-A1LI: 400개 파일 존재\n",
      "TCGA-A2-A1G6: 89개 파일 존재\n",
      "TCGA-GM-A3XL: 250개 파일 존재\n",
      "TCGA-AC-A2BK: 117개 파일 존재\n",
      "TCGA-E2-A14X: 270개 파일 존재\n",
      "TCGA-E2-A159: 343개 파일 존재\n",
      "TCGA-OL-A5D7: 340개 파일 존재\n",
      "TCGA-A7-A5ZV: 140개 파일 존재\n",
      "TCGA-AN-A0AR: 190개 파일 존재\n",
      "TCGA-A2-A0D0: 653개 파일 존재\n",
      "TCGA-GI-A2C9: 81개 파일 존재\n",
      "TCGA-E2-A14R: 67개 파일 존재\n",
      "TCGA-D8-A1JF: 192개 파일 존재\n",
      "TCGA-AO-A129: 300개 파일 존재\n",
      "TCGA-GM-A2DD: 359개 파일 존재\n",
      "TCGA-AN-A0AT: 139개 파일 존재\n",
      "TCGA-D8-A143: 404개 파일 존재\n",
      "TCGA-C8-A26X: 295개 파일 존재\n",
      "TCGA-E2-A150: 185개 파일 존재\n",
      "TCGA-EW-A1OV: 522개 파일 존재\n",
      "TCGA-BH-A0E0: 231개 파일 존재\n",
      "TCGA-AO-A0J4: 277개 파일 존재\n",
      "TCGA-EW-A1PH: 307개 파일 존재\n",
      "TCGA-A7-A6VW: 145개 파일 존재\n",
      "TCGA-D8-A1XK: 103개 파일 존재\n",
      "TCGA-EW-A6SB: 278개 파일 존재\n",
      "TCGA-EW-A1OW: 522개 파일 존재\n",
      "TCGA-A1-A0SP: 213개 파일 존재\n",
      "TCGA-A7-A0CE: 378개 파일 존재\n",
      "TCGA-A7-A0DA: 511개 파일 존재\n",
      "TCGA-E2-A573: 99개 파일 존재\n",
      "TCGA-C8-A27B: 328개 파일 존재\n",
      "TCGA-C8-A12V: 344개 파일 존재\n",
      "TCGA-AO-A0J6: 270개 파일 존재\n",
      "TCGA-A7-A4SE: 22개 파일 존재\n",
      "TCGA-A2-A04T: 295개 파일 존재\n",
      "TCGA-AC-A2QJ: 94개 파일 존재\n",
      "TCGA-D8-A1JL: 662개 파일 존재\n",
      "TCGA-EW-A1P8: 147개 파일 존재\n",
      "TCGA-D8-A27M: 238개 파일 존재\n",
      "TCGA-EW-A1P7: 179개 파일 존재\n",
      "TCGA-BH-A0RX: 239개 파일 존재\n",
      "TCGA-BH-A0B9: 366개 파일 존재\n",
      "TCGA-C8-A3M7: 183개 파일 존재\n",
      "TCGA-BH-A1F6: 229개 파일 존재\n",
      "TCGA-AO-A0J2: 174개 파일 존재\n",
      "TCGA-A2-A0D2: 119개 파일 존재\n",
      "TCGA-E2-A1L7: 314개 파일 존재\n",
      "TCGA-EW-A1P4: 194개 파일 존재\n",
      "TCGA-AR-A1AY: 70개 파일 존재\n",
      "TCGA-AR-A1AR: 134개 파일 존재\n",
      "TCGA-D8-A13Z: 368개 파일 존재\n",
      "TCGA-EW-A1P1: 220개 파일 존재\n",
      "TCGA-A7-A26I: 116개 파일 존재\n",
      "TCGA-AR-A2LH: 179개 파일 존재\n",
      "TCGA-E9-A5FL: 426개 파일 존재\n",
      "TCGA-S3-AA10: 120개 파일 존재\n",
      "TCGA-AO-A12F: 153개 파일 존재\n",
      "TCGA-BH-A18V: 305개 파일 존재\n",
      "TCGA-A2-A3XX: 101개 파일 존재\n",
      "TCGA-AQ-A54N: 137개 파일 존재\n",
      "TCGA-E2-A1LL: 148개 파일 존재\n",
      "TCGA-GM-A2DB: 519개 파일 존재\n",
      "TCGA-AN-A0G0: 164개 파일 존재\n",
      "TCGA-AR-A0U4: 128개 파일 존재\n",
      "TCGA-EW-A1PB: 168개 파일 존재\n",
      "TCGA-C8-A131: 67개 파일 존재\n",
      "TCGA-OL-A5D6: 79개 파일 존재\n",
      "TCGA-A8-A08R: 124개 파일 존재\n",
      "TCGA-AQ-A04J: 84개 파일 존재\n",
      "TCGA-BH-A0B3: 141개 파일 존재\n",
      "TCGA-LL-A73Y: 48개 파일 존재\n",
      "TCGA-A7-A26F: 400개 파일 존재\n",
      "TCGA-D8-A27F: 207개 파일 존재\n",
      "TCGA-BH-A1FC: 265개 파일 존재\n",
      "TCGA-D8-A147: 66개 파일 존재\n",
      "TCGA-LL-A740: 103개 파일 존재\n",
      "TCGA-E2-A1B6: 255개 파일 존재\n",
      "TCGA-A8-A09X: 166개 파일 존재\n",
      "TCGA-AC-A2QH: 317개 파일 존재\n",
      "TCGA-LL-A441: 110개 파일 존재\n",
      "TCGA-OL-A66P: 263개 파일 존재\n",
      "TCGA-AC-A7VC: 222개 파일 존재\n",
      "TCGA-BH-A0BL: 185개 파일 존재\n",
      "TCGA-A8-A07O: 172개 파일 존재\n",
      "TCGA-BH-A1EW: 216개 파일 존재\n",
      "TCGA-A2-A0YE: 161개 파일 존재\n",
      "TCGA-A2-A3XY: 203개 파일 존재\n",
      "TCGA-A2-A0SX: 142개 파일 존재\n",
      "TCGA-GM-A2DH: 164개 파일 존재\n",
      "TCGA-A7-A6VV: 187개 파일 존재\n",
      "TCGA-A8-A07C: 142개 파일 존재\n",
      "TCGA-A2-A0YM: 364개 파일 존재\n",
      "TCGA-A2-A3XT: 173개 파일 존재\n",
      "TCGA-AR-A1AI: 88개 파일 존재\n",
      "TCGA-AO-A124: 99개 파일 존재\n",
      "TCGA-OL-A97C: 230개 파일 존재\n",
      "TCGA-OL-A6VO: 90개 파일 존재\n",
      "TCGA-A2-A0T0: 147개 파일 존재\n",
      "TCGA-AR-A5QQ: 132개 파일 존재\n",
      "TCGA-AO-A128: 86개 파일 존재\n",
      "TCGA-A1-A0SK: 117개 파일 존재\n",
      "TCGA-LL-A5YO: 89개 파일 존재\n",
      "TCGA-A2-A3XS: 248개 파일 존재\n",
      "TCGA-E2-A1LH: 119개 파일 존재\n",
      "TCGA-OL-A66I: 93개 파일 존재\n",
      "TCGA-A2-A3XU: 198개 파일 존재\n",
      "TCGA-E2-A574: 195개 파일 존재\n",
      "TCGA-AR-A1AQ: 78개 파일 존재\n",
      "TCGA-C8-A1HJ: 149개 파일 존재\n",
      "TCGA-A7-A6VY: 77개 파일 존재\n",
      "TCGA-AR-A0TS: 154개 파일 존재\n",
      "TCGA-BH-A0AV: 134개 파일 존재\n",
      "TCGA-AC-A6IW: 90개 파일 존재\n",
      "TCGA-AR-A0U1: 82개 파일 존재\n",
      "TCGA-EW-A3U0: 46개 파일 존재\n",
      "TCGA-A7-A4SD: 79개 파일 존재\n",
      "TCGA-A2-A04Q: 43개 파일 존재\n",
      "TCGA-E2-A1LS: 76개 파일 존재\n",
      "TCGA-A7-A26G: 55개 파일 존재\n",
      "TCGA-AR-A0TU: 53개 파일 존재\n",
      "TCGA-D8-A27H: 91개 파일 존재\n",
      "TCGA-E2-A1AZ: 120개 파일 존재\n",
      "TCGA-BH-A18G: 100개 파일 존재\n",
      "TCGA-A2-A0T2: 234개 파일 존재\n",
      "TCGA-BH-A0BG: 149개 파일 존재\n",
      "TCGA-S3-AA15: 61개 파일 존재\n",
      "TCGA-E2-A158: 99개 파일 존재\n",
      "TCGA-AR-A2LR: 61개 파일 존재\n",
      "TCGA-HN-A2NL: 42개 파일 존재\n",
      "TCGA-GM-A2DI: 31개 파일 존재\n",
      "TCGA-AR-A256: 69개 파일 존재\n",
      "TCGA-BH-A42U: 26개 파일 존재\n",
      "TCGA-OL-A5RW: 14개 파일 존재\n",
      "\n",
      "총 유니크한 파일 그룹 개수: 151\n"
     ]
    }
   ],
   "source": [
    "# import os\n",
    "from collections import defaultdict\n",
    "\n",
    "# 파일이 저장된 폴더 경로\n",
    "folder_path = \"/Users/wj/Downloads/BMEN619.03/archive/BCSS/train_mask\"\n",
    "\n",
    "# 파일 목록 가져오기 (PNG 파일만)\n",
    "file_list = [f for f in os.listdir(folder_path) if f.endswith(\".png\")]\n",
    "\n",
    "# 각 고유한 파일 앞부분(DX1 기준 앞부분)별 파일 개수 저장\n",
    "file_counts = defaultdict(int)\n",
    "\n",
    "for filename in file_list:\n",
    "    if \"-DX1\" in filename:  # \"_DX1\"이 포함된 파일만 처리\n",
    "        prefix = filename.split(\"-DX1\")[0]  # \"_DX1\" 앞부분만 추출\n",
    "        file_counts[prefix] += 1  # 해당 prefix에 대한 파일 개수 증가\n",
    "\n",
    "# 결과 출력\n",
    "for prefix, count in file_counts.items():\n",
    "    print(f\"{prefix}: {count}개 파일 존재\")\n",
    "\n",
    "# 유니크한 앞부분 개수 출력\n",
    "print(f\"\\n총 유니크한 파일 그룹 개수: {len(file_counts)}\")\n"
   ]
  },
  {
   "cell_type": "code",
   "execution_count": 32,
   "id": "673308a7-d2d5-4ee8-b26c-1e5f64fe2245",
   "metadata": {},
   "outputs": [
    {
     "name": "stdout",
     "output_type": "stream",
     "text": [
      "Unique values (np.uint8(0), np.uint8(1), np.uint8(2)): 6082 files\n",
      "Unique values (np.uint8(0), np.uint8(1)): 2938 files\n",
      "Unique values (np.uint8(1), np.uint8(2)): 6172 files\n",
      "Unique values (np.uint8(0), np.uint8(2)): 6556 files\n",
      "Unique values (np.uint8(0),): 2994 files\n",
      "Unique values (np.uint8(1),): 4089 files\n",
      "Unique values (np.uint8(2),): 1929 files\n"
     ]
    }
   ],
   "source": [
    "# 조합별로 파일갯수세기\n",
    "# import os\n",
    "# import numpy as np\n",
    "# from PIL import Image\n",
    "\n",
    "# 마스크 파일들이 저장된 폴더 경로\n",
    "mask_folder = \"/Users/wj/Downloads/BMEN619.03/archive/BCSS/train_mask/\"\n",
    "\n",
    "# 유니크 값 조합별로 파일 개수를 세는 딕셔너리\n",
    "mask_count = {}\n",
    "\n",
    "# 폴더 내 모든 파일에 대해 반복\n",
    "for filename in os.listdir(mask_folder):\n",
    "    if filename.endswith(\".png\"):  # 이미지 파일만 처리\n",
    "        # 이미지 열기\n",
    "        mask = np.array(Image.open(os.path.join(mask_folder, filename)))\n",
    "        \n",
    "        # 유니크 값 추출\n",
    "        unique_values = tuple(np.unique(mask))  # 유니크 값 튜플로 변환\n",
    "        \n",
    "        # 해당 조합의 파일 수 카운트\n",
    "        if unique_values in mask_count:\n",
    "            mask_count[unique_values] += 1\n",
    "        else:\n",
    "            mask_count[unique_values] = 1\n",
    "\n",
    "# 결과 출력\n",
    "for unique_values, count in mask_count.items():\n",
    "    print(f\"Unique values {unique_values}: {count} files\")\n"
   ]
  },
  {
   "cell_type": "code",
   "execution_count": 27,
   "id": "a04618b8-456e-409f-82a4-aecc2c2581ed",
   "metadata": {
    "scrolled": true
   },
   "outputs": [],
   "source": [
    "# 이미지 로드 시 에러가 나는 파일 찾기\n",
    "mask_folder = \"/Users/wj/Downloads/BMEN619.03/archive/BCSS/train_mask/\"\n",
    "\n",
    "for filename in os.listdir(mask_folder):\n",
    "    if filename.endswith(\".png\"):  # 이미지 파일만 처리\n",
    "        try:\n",
    "            img = Image.open((os.path.join(mask_folder, filename)))  # 정상적으로 열리는지 확인\n",
    "        except Exception as e:\n",
    "            print(f\"손상된 이미지: {filename}\")\n"
   ]
  },
  {
   "cell_type": "code",
   "execution_count": null,
   "id": "54e51c97-bcd2-4ab0-b0be-426de0b86aaa",
   "metadata": {},
   "outputs": [],
   "source": [
    "(os.path.join(mask_folder, filename)"
   ]
  }
 ],
 "metadata": {
  "kernelspec": {
   "display_name": "bmen619",
   "language": "python",
   "name": "python3"
  },
  "language_info": {
   "codemirror_mode": {
    "name": "ipython",
    "version": 3
   },
   "file_extension": ".py",
   "mimetype": "text/x-python",
   "name": "python",
   "nbconvert_exporter": "python",
   "pygments_lexer": "ipython3",
   "version": "3.12.9"
  }
 },
 "nbformat": 4,
 "nbformat_minor": 5
}
